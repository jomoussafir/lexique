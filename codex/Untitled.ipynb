{
 "cells": [
  {
   "cell_type": "code",
   "execution_count": 9,
   "metadata": {},
   "outputs": [],
   "source": [
    "import sys\n",
    "import re\n",
    "import numpy as np\n",
    "import matplotlib.pyplot as plt"
   ]
  },
  {
   "cell_type": "markdown",
   "metadata": {},
   "source": [
    "## Read the book"
   ]
  },
  {
   "cell_type": "code",
   "execution_count": 10,
   "metadata": {},
   "outputs": [],
   "source": [
    "p = re.compile(r'(\\w+)',re.UNICODE)\n",
    "\n",
    "fd=open(\"livres/Les 3 Mousquetaires.txt\")\n",
    "lines=fd.readlines()\n",
    "fd.close()"
   ]
  },
  {
   "cell_type": "markdown",
   "metadata": {},
   "source": [
    "## Make lexique"
   ]
  },
  {
   "cell_type": "code",
   "execution_count": 21,
   "metadata": {},
   "outputs": [],
   "source": [
    "## make lexique\n",
    "lexique=[]\n",
    "for l in lines:\n",
    "    lexique+=l.split(\" \")\n",
    "lexique_raw=list(set(lexique))\n",
    "\n",
    "lexique=[]\n",
    "for l in lexique_raw:\n",
    "    m=p.search(l)\n",
    "    if m:\n",
    "        lexique.append(m.group(1))\n",
    "\n",
    "lexique=[s.lower() for s in lexique]\n",
    "lexique=list(set(lexique))\n",
    "lexique.sort()\n",
    "\n",
    "## make lexique with words of length i\n",
    "max_word_length = max([len(w) for w in lexique])\n",
    "lexique_dict={}\n",
    "for i in np.arange(1,max_word_length+1):\n",
    "    lexique_tmp =[]\n",
    "    for w in lexique:\n",
    "        if(len(w)==i):\n",
    "            lexique_tmp.append(w)\n",
    "    \n",
    "    #lexique_dict[i]=[s.lower() for s in list(set(lexique_tmp))]\n",
    "    lexique_dict[i]=[s.lower() for s in lexique_tmp]\n",
    "    #lexique_dict[i].sort()\n",
    "\n",
    "    \n",
    "## make alphabet\n",
    "alphabet=list(set(''.join(lexique)))\n",
    "alphabet.sort()"
   ]
  },
  {
   "cell_type": "markdown",
   "metadata": {},
   "source": [
    "## Word length"
   ]
  },
  {
   "cell_type": "code",
   "execution_count": 22,
   "metadata": {},
   "outputs": [
    {
     "data": {
      "text/plain": [
       "Text(0.5,1,'Distribution of word length in Les trois Mousquetaires')"
      ]
     },
     "execution_count": 22,
     "metadata": {},
     "output_type": "execute_result"
    },
    {
     "data": {
      "image/png": "[encoded data removed]",
      "text/plain": [
       "<matplotlib.figure.Figure at 0x106cd24e0>"
      ]
     },
     "metadata": {},
     "output_type": "display_data"
    }
   ],
   "source": [
    "z = np.zeros((max_word_length,1))\n",
    "for i in np.arange(1,max_word_length+1):\n",
    "    z[i-1] = len(lexique_dict[i])\n",
    "    \n",
    "idx = np.arange(1,max_word_length+1)\n",
    "plt.plot(idx, z)\n",
    "plt.title(\"Distribution of word length in Les trois Mousquetaires\")"
   ]
  },
  {
   "cell_type": "code",
   "execution_count": 26,
   "metadata": {},
   "outputs": [],
   "source": [
    "from lxml import etree\n",
    "\n",
    "tree = etree.parse(\"Morphalou2/Morphalou-2.0.xml\")\n",
    "for lex in tree.xpath(\"/lexicon/lexicalEntry/formset/lemmatizedForm/orthography\"):\n",
    "    print(lex.text)"
   ]
  },
  {
   "cell_type": "code",
   "execution_count": null,
   "metadata": {},
   "outputs": [],
   "source": [
    "    <lexicon>\n",
    "\t<lexiconInformation>\n",
    "\t\t<originatingData originatingDatabase=\"TLF\" originatingInstitution=\"ATILF\" />\n",
    "\t\t<originatingData originatingDatabase=\"Morphalou-1.0\" originatingInstitution=\"ATILF\" />\n",
    "\t</lexiconInformation>\n",
    "\t<lexicalEntry id=\"a_1\">\n",
    "\t\t<formSet>\n",
    "\t\t\t<lemmatizedForm>\n",
    "\t\t\t\t<orthography>a</orthography>"
   ]
  },
  {
   "cell_type": "code",
   "execution_count": 30,
   "metadata": {},
   "outputs": [
    {
     "name": "stdout",
     "output_type": "stream",
     "text": [
      "<Element user at 0x104ff0f08>\n",
      "<Element user at 0x104ff0c88>\n",
      "<Element user at 0x104684948>\n",
      "<Element user at 0x104684c08>\n",
      "<Element user at 0x104684288>\n",
      "<Element user at 0x104684508>\n"
     ]
    }
   ],
   "source": [
    "tree = etree.parse(\"data.xml\")\n",
    "for user in tree.xpath(\"/users/user\"):\n",
    "    print(user."
   ]
  },
  {
   "cell_type": "code",
   "execution_count": null,
   "metadata": {},
   "outputs": [],
   "source": []
  },
  {
   "cell_type": "code",
   "execution_count": null,
   "metadata": {},
   "outputs": [],
   "source": []
  }
 ],
 "metadata": {
  "kernelspec": {
   "display_name": "Python 3",
   "language": "python",
   "name": "python3"
  },
  "language_info": {
   "codemirror_mode": {
    "name": "ipython",
    "version": 3
   },
   "file_extension": ".py",
   "mimetype": "text/x-python",
   "name": "python",
   "nbconvert_exporter": "python",
   "pygments_lexer": "ipython3",
   "version": "3.6.5"
  }
 },
 "nbformat": 4,
 "nbformat_minor": 2
}
